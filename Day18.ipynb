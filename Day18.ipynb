{
 "cells": [
  {
   "cell_type": "markdown",
   "id": "abbf0181",
   "metadata": {},
   "source": [
    "Day 18 of Advent of Code 2021\n",
    "\n",
    "February 4, 2023"
   ]
  },
  {
   "cell_type": "code",
   "execution_count": 1,
   "id": "f522aa2a",
   "metadata": {},
   "outputs": [],
   "source": [
    "import numpy as np\n",
    "import matplotlib.pyplot as plt\n",
    "import seaborn as sns\n",
    "np.set_printoptions(linewidth=250)\n",
    "import json\n"
   ]
  },
  {
   "cell_type": "code",
   "execution_count": 2,
   "id": "530c1792",
   "metadata": {},
   "outputs": [],
   "source": [
    "\n",
    "\n",
    "class Snail():\n",
    "    \"\"\"\n",
    "    Using ridiculous naming for now in that the class is Snail and inside the class\n",
    "    the main item is called hw for homework.  \n",
    "    \n",
    "    The main item, hw, is a string.\n",
    "    \"\"\"\n",
    "    \n",
    "    hw = ''\n",
    "    left = '['\n",
    "    right = ']'\n",
    "    edepth = 5\n",
    "    num_max = 9\n",
    "    left_score_multiplier = 3\n",
    "    right_score_multiplier = 2\n",
    "    \n",
    "    \n",
    "    def __init__(self,s):\n",
    "        \n",
    "        self.hw = s\n",
    "        \n",
    "    def __repr__(self):\n",
    "        \n",
    "        return self.hw\n",
    "    \n",
    "    def add_string(self,mhw):\n",
    "        \"\"\"\n",
    "        Input:\n",
    "            mhw    type Class Snail\n",
    "        \n",
    "        Returns the addition string when adding mhw *on the right*\n",
    "        \"\"\"\n",
    "        return '[' + self.hw + ',' + mhw.hw + ']'\n",
    "    \n",
    "    def depth(self):\n",
    "        \"\"\"\n",
    "        Determines how deep the brackets go\n",
    "        \"\"\"\n",
    "        um = 0\n",
    "        track = 0\n",
    "        for s in self.hw:\n",
    "            if s == self.left:\n",
    "                track = track + 1\n",
    "                if track > um:\n",
    "                    um = track\n",
    "            elif s == self.right:\n",
    "                track = track - 1\n",
    "        return um\n",
    "    \n",
    "    def comma_split(self):\n",
    "        return self.hw.split(',')\n",
    "    \n",
    "    def left_counts(self):\n",
    "        return [x.count(self.left) for x in self.comma_split()]\n",
    "        \n",
    "    def right_counts(self):\n",
    "        return [x.count(self.right) for x in self.comma_split()]\n",
    "    \n",
    "    def depth_array(self):\n",
    "        \"\"\"\n",
    "        Returns an array of the open depth at the end of each comma separated term.\n",
    "        \"\"\"\n",
    "        return list(np.cumsum(self.left_counts()) - np.cumsum(self.right_counts()))\n",
    "    \n",
    "    def extract_number(self, g):\n",
    "        return int(''.join([x for x in g if x not in [self.left,self.right]]))\n",
    "\n",
    "    def number_array(self):\n",
    "        \"\"\"\n",
    "        Returns an array of the numbers in each of the comma separated terms\n",
    "        \"\"\"\n",
    "        return [self.extract_number(x) for x in self.comma_split()]\n",
    "    \n",
    "    def replace_number(self,old_term,new_number):\n",
    "        old_number = self.extract_number(old_term)\n",
    "        return old_term.replace(str(old_number),str(new_number))\n",
    "        \n",
    "        \n",
    "    \n",
    "    def single_boom(self):\n",
    "        \"\"\"\n",
    "        Finds the first pair that should explode in the self.hw string and then \n",
    "        returns the post explosion string.  If no strings can be exploded returns\n",
    "        the original self.hw\n",
    "        \n",
    "        WARNING!!!! DO NOT USE THIS FUNCTION.  IT HAS A BUG THAT IS NOT GOING TO BE \n",
    "        FIXED.  USE boom INSTEAD\n",
    "        \"\"\"\n",
    "        cs = self.comma_split()\n",
    "        da = self.depth_array()\n",
    "        if self.edepth in da:\n",
    "            findx = da.index(self.edepth)\n",
    "            alist = cs[:findx]\n",
    "            blist = cs[findx]\n",
    "            clist = cs[findx+1:]\n",
    "        \n",
    "            \n",
    "            nlist = []            \n",
    "            if len(alist) == 0:\n",
    "                nlist.append(self.replace_number(blist,0)[1:])\n",
    "            else:\n",
    "                #Put all of the things that are not the last item into nlist\n",
    "                nlist.extend(alist[:-1])\n",
    "                #Find the last item and modify by adding in the going away number and \n",
    "                #add it to the list\n",
    "                last_item = alist[-1]\n",
    "                first_num = self.extract_number(blist)\n",
    "                last_num = self.extract_number(last_item)\n",
    "                nlist.append(self.replace_number(last_item,first_num + last_num))\n",
    "            \n",
    "            #Next up we must deal with the other side\n",
    "            assert(len(clist) > 0)\n",
    "            #####WARNING BUG IS HERE---WE ASSUMED THAT THERE WERE ALWAYS MORE RIGHT BRACKETS\n",
    "            ######       THAN LEFT BRACKETS.  OOOOPPPSSS....\n",
    "            second_num = self.extract_number(clist[0])\n",
    "            if len(alist) > 0:\n",
    "                nlist.append(self.replace_number(clist[0],0)[:-1])\n",
    "            if len(clist) > 1:\n",
    "                third_num = self.extract_number(clist[1])\n",
    "                nlist.append(self.replace_number(clist[1],second_num + third_num))\n",
    "                nlist.extend(clist[2:])\n",
    "                \n",
    "            return ','.join(nlist)\n",
    "        else:\n",
    "            return self.hw\n",
    " \n",
    "    def boom(self):\n",
    "        \"\"\"\n",
    "        Finds the first pair that should explode in the self.hw string and then \n",
    "        returns the post explosion string.  If no strings can be exploded returns\n",
    "        the original self.hw\n",
    "        \n",
    "        NOTE:  This is the updated version that hopefully works correctly.\n",
    "        \"\"\"\n",
    "        cs = self.comma_split()\n",
    "        da = self.depth_array()\n",
    "        if self.edepth in da:\n",
    "            findx = da.index(self.edepth)\n",
    "            nums = self.number_array()\n",
    "            #Now we add the correct numbers into the appropriate terms.\n",
    "            if findx> 0:\n",
    "                cs[findx-1] = self.replace_number(cs[findx-1],nums[findx - 1] + nums[findx])\n",
    "            if len(cs) - findx > 2:\n",
    "                cs[findx+2] = self.replace_number(cs[findx+2],nums[findx + 2] + nums[findx+1])\n",
    "            \n",
    "            #Next we combine the two middle terms into a single appropriate term.\n",
    "            lc = self.left_counts()[findx]\n",
    "            rc = self.right_counts()[findx + 1]\n",
    "            assert(lc != rc)\n",
    "            if lc < rc:\n",
    "                nt = '0'+self.right*(rc-1)\n",
    "            else:\n",
    "                nt = self.left*(lc-1) + '0'\n",
    "        \n",
    "            \n",
    "            return ','.join(cs[:findx] + [nt] + cs[findx+2:])\n",
    "        else:\n",
    "            return self.hw\n",
    "        \n",
    "\n",
    "\n",
    "\n",
    "\n",
    "    def explode(self, verbose = False):\n",
    "        \"\"\"\n",
    "        IMPORTANT!  \n",
    "             THIS FUNCTION MODIFIES THE hw ELEMENT OF THE CLASS.  So it will change \n",
    "             the values.\n",
    "        \"\"\"\n",
    "        \n",
    "        while self.hw != self.boom():\n",
    "            if verbose:\n",
    "                print(self.hw)\n",
    "            self.hw = self.boom()\n",
    "    \n",
    "    def get_split_indices(self):\n",
    "        nums = np.array(self.number_array())\n",
    "        return list(np.where(nums > self.num_max)[0])\n",
    "\n",
    "    \n",
    "    def single_split(self):\n",
    "        \"\"\"\n",
    "        Finds the first instance where the number is > 9 and returns the string where \n",
    "        this instance has been split.  If no such instance exists, it returns self.hw.\n",
    "        \"\"\"\n",
    "        party = self.get_split_indices()\n",
    "        if len(party) >0:\n",
    "            sindx = party[0]\n",
    "            cs = self.comma_split()\n",
    "            surgery_term = cs[sindx]\n",
    "            surgery_number = self.extract_number(surgery_term)\n",
    "            first = int(surgery_number/2)\n",
    "            second = surgery_number - first\n",
    "            ###NOTE:  self.replace_number wasn't originally intended to be used for strings.\n",
    "            ###  but it just happens to work anyway.  Potential source for future bugs here.\n",
    "            surgery_term = self.replace_number(surgery_term,'[{},{}]'.format(first,second))\n",
    "            cs[sindx] = surgery_term\n",
    "            return ','.join(cs)\n",
    "        else:\n",
    "            return self.hw\n",
    "        \n",
    "        \n",
    "    def reduce(self, verbose= False):\n",
    "        \"\"\"\n",
    "        IMPORTANT!  \n",
    "             THIS FUNCTION MODIFIES THE hw ELEMENT OF THE CLASS.  So it will change \n",
    "             the values.\n",
    "        \"\"\"\n",
    "        self.explode()\n",
    "        old = self.hw\n",
    "        while old != self.single_split():\n",
    "            if verbose:\n",
    "                print('Before  split:  ', self.hw)\n",
    "            self.hw = self.single_split()\n",
    "            if verbose:\n",
    "                print('After   split:  ', self.hw)\n",
    "                \n",
    "            self.explode()\n",
    "            if verbose:\n",
    "                print('After explode:  ', self.hw)\n",
    "                print()\n",
    "\n",
    "            old = self.hw\n",
    "\n",
    "    def add(self,other_snail,verbose = False):\n",
    "        \"\"\"\n",
    "        IMPORTANT!  \n",
    "             THIS FUNCTION MODIFIES THE hw ELEMENT OF THE CLASS.  So it will change \n",
    "             the values.\n",
    "             \n",
    "        Furthermore:  other_snail is assumed to also be an instance of Snail.\n",
    "        \n",
    "        Furthermore:  Order is very important to this and other_snail is added on the \n",
    "        right!\n",
    "        \"\"\"\n",
    "        if verbose:\n",
    "            print(\"Reducing self\")\n",
    "        self.reduce(verbose = verbose)\n",
    "        if verbose:\n",
    "            print(\"Reducing other_snail\")\n",
    "        other_snail.reduce(verbose = verbose)\n",
    "        self.hw = self.add_string(other_snail)\n",
    "        if verbose:\n",
    "            print('Added them together')\n",
    "            print(self.hw)\n",
    "            print(\"Reducing result\")\n",
    "        self.reduce(verbose = verbose)\n",
    "   \n",
    "\n",
    "#####\n",
    "#\n",
    "# Functions for computing the magnitude of a snail.\n",
    "#\n",
    "####\n",
    "            \n",
    "\"\"\"\n",
    "Is this the crappiest implementation of a scoring function?  Possibly yes.  \n",
    "\n",
    "Do I care at this point?  Definitely not.\n",
    "\n",
    "Certainly not enough to figure out why the recusion is only partially working.  Am \n",
    "applying a 'bandage' and moving on to *any* other thing I could be doing.\n",
    "\n",
    "So the magnitude scoring values are nasty little bits of hardcoding and I have to \n",
    "call the recursion multiple times.  And it assumes that the input is a Snail class\n",
    "without checking.  The list goes on.\n",
    "\n",
    "\"\"\"\n",
    "\n",
    "def grover(a, verbose = False):\n",
    "    if verbose:\n",
    "        print(a)\n",
    "    assert(len(a) == 2)\n",
    "    if type(a[0]) is int:\n",
    "        if type(a[1]) is int:\n",
    "            rval = 3*a[0] + 2*a[1]\n",
    "        else:\n",
    "            rval = [a[0],grover(a[1])]\n",
    "    else:\n",
    "        if type(a[1]) is int:\n",
    "            rval = [grover(a[0]),a[1]]\n",
    "        else:\n",
    "            rval = [grover(a[0]),grover(a[1])]\n",
    "    if verbose:\n",
    "        print(rval)\n",
    "    return rval\n",
    "                    \n",
    "\n",
    "def magnitude(snail):\n",
    "    \"\"\"\n",
    "    This could run forever.  You have been warned.\n",
    "    \"\"\"\n",
    "    a = json.loads(snail.hw)\n",
    "    b = grover(a)\n",
    "    while type(b) is not int:\n",
    "        b = grover(b)\n",
    "    return b\n",
    "    \n",
    "\n",
    "        \n",
    "###All of these are here because lots of test cases are necessary.    \n",
    "    \n",
    "#Basic examples\n",
    "t = Snail('[2,3]')\n",
    "u = Snail('[[8,4],3]')\n",
    "#Examples pre and post where explosions are necessary\n",
    "k = Snail('[[[[[9,8],1],2],3],4]')\n",
    "pk = Snail('[[[[0,9],2],3],4]')\n",
    "\n",
    "tp = Snail('[[3,[2,[1,[7,3]]]],[6,[5,[4,[3,2]]]]]')\n",
    "ptp = Snail('[[3,[2,[8,0]]],[9,[5,[4,[3,2]]]]]')\n",
    "pptp = Snail('[[3,[2,[8,0]]],[9,[5,[7,0]]]]')\n",
    "\n",
    "#Example that looks complicated but is actually in 'reduced form'\n",
    "tp2 = Snail('[[[0,[4,5]],[0,0]],[[[4,5],[2,6]],[9,5]]]')\n",
    "\n",
    "#Split mid examples\n",
    "j = Snail('[[[[0,7],4],[15,[0,13]]],[1,1]]')\n",
    "sj = Snail('[[[[0,7],4],[[7,8],[0,13]]],[1,1]]')\n",
    "ssj = Snail('[[[[0,7],4],[[7,8],[0,[6,7]]]],[1,1]]')\n",
    "fssj = Snail('[[[[0,7],4],[[7,8],[6,0]]],[8,1]]')"
   ]
  },
  {
   "cell_type": "code",
   "execution_count": 3,
   "id": "070e3d35",
   "metadata": {},
   "outputs": [],
   "source": [
    "with open(\"18s.txt\") as f:\n",
    "    slines = f.readlines()\n",
    "slines = [x.strip() for x in slines]\n",
    "with open(\"18.txt\") as f:\n",
    "    contents = f.readlines()\n",
    "contents = [x.strip() for x in contents]"
   ]
  },
  {
   "cell_type": "code",
   "execution_count": 4,
   "id": "a5f92422",
   "metadata": {},
   "outputs": [
    {
     "data": {
      "text/plain": [
       "['[[[0,[5,8]],[[1,7],[9,6]]],[[4,[1,2]],[[1,4],2]]]',\n",
       " '[[[5,[2,8]],4],[5,[[9,9],0]]]',\n",
       " '[6,[[[6,2],[5,6]],[[7,6],[4,7]]]]',\n",
       " '[[[6,[0,7]],[0,9]],[4,[9,[9,0]]]]',\n",
       " '[[[7,[6,4]],[3,[1,3]]],[[[5,5],1],9]]',\n",
       " '[[6,[[7,3],[3,2]]],[[[3,8],[5,7]],4]]',\n",
       " '[[[[5,4],[7,7]],8],[[8,3],8]]',\n",
       " '[[9,3],[[9,9],[6,[4,9]]]]',\n",
       " '[[2,[[7,7],7]],[[5,8],[[9,3],[0,2]]]]',\n",
       " '[[[[5,2],5],[8,[3,7]]],[[5,[7,5]],[4,4]]]']"
      ]
     },
     "execution_count": 4,
     "metadata": {},
     "output_type": "execute_result"
    }
   ],
   "source": [
    "slines"
   ]
  },
  {
   "cell_type": "code",
   "execution_count": 5,
   "id": "e4bff995",
   "metadata": {},
   "outputs": [
    {
     "data": {
      "text/plain": [
       "[[[0,[5,8]],[[1,7],[9,6]]],[[4,[1,2]],[[1,4],2]]]"
      ]
     },
     "execution_count": 5,
     "metadata": {},
     "output_type": "execute_result"
    }
   ],
   "source": [
    "sample_snail = Snail(slines[0])\n",
    "sample_snail"
   ]
  },
  {
   "cell_type": "code",
   "execution_count": 6,
   "id": "bf33d11f",
   "metadata": {},
   "outputs": [
    {
     "name": "stdout",
     "output_type": "stream",
     "text": [
      "[[[[7,0],[7,8]],[[7,9],[0,6]]],[[[7,0],[6,6]],[[7,7],[0,9]]]]\n",
      "[[[[7,7],[7,7]],[[7,0],[7,7]]],[[[7,7],[6,7]],[[7,7],[8,9]]]]\n",
      "[[[[6,6],[6,6]],[[7,7],[7,7]]],[[[7,0],[7,7]],[[7,8],[8,8]]]]\n",
      "[[[[6,6],[7,7]],[[7,7],[8,8]]],[[[8,8],[0,8]],[[8,9],[9,9]]]]\n",
      "[[[[6,6],[7,7]],[[7,7],[7,0]]],[[[7,7],[8,8]],[[8,8],[8,9]]]]\n",
      "[[[[7,7],[7,7]],[[7,7],[7,7]]],[[[0,7],[8,8]],[[8,8],[8,9]]]]\n",
      "[[[[7,7],[7,7]],[[7,7],[8,8]]],[[[8,8],[0,8]],[[8,9],[8,7]]]]\n",
      "[[[[7,7],[7,7]],[[7,7],[7,7]]],[[[8,7],[8,7]],[[7,9],[5,0]]]]\n",
      "[[[[6,6],[7,6]],[[7,7],[7,0]]],[[[7,7],[7,7]],[[7,8],[9,9]]]]\n"
     ]
    },
    {
     "data": {
      "text/plain": [
       "4140"
      ]
     },
     "execution_count": 6,
     "metadata": {},
     "output_type": "execute_result"
    }
   ],
   "source": [
    "for s in slines[1:]:\n",
    "    sample_snail.add(Snail(s))\n",
    "    print(sample_snail)\n",
    "magnitude(sample_snail)"
   ]
  },
  {
   "cell_type": "code",
   "execution_count": null,
   "id": "0d2ad43f",
   "metadata": {},
   "outputs": [],
   "source": []
  },
  {
   "cell_type": "code",
   "execution_count": null,
   "id": "65944997",
   "metadata": {},
   "outputs": [],
   "source": []
  },
  {
   "cell_type": "code",
   "execution_count": 7,
   "id": "35e29d36",
   "metadata": {},
   "outputs": [
    {
     "data": {
      "text/plain": [
       "['[[0,6],[[[4,0],[6,6]],[[2,2],9]]]',\n",
       " '[[9,[[1,6],[6,0]]],[[1,[0,8]],[[0,8],[9,8]]]]',\n",
       " '[[[0,[2,1]],3],[[[2,4],[1,2]],[7,5]]]',\n",
       " '[[[[8,3],[8,5]],[[7,8],[5,5]]],[9,2]]',\n",
       " '[[8,[1,9]],[[[9,9],[9,2]],1]]',\n",
       " '[[[[3,7],[2,1]],[0,9]],4]',\n",
       " '[[[[3,8],[6,0]],[0,7]],[[[6,3],[2,0]],9]]',\n",
       " '[[[9,[7,0]],[8,[9,6]]],[[5,6],4]]',\n",
       " '[[[[3,6],[3,6]],[0,2]],[[[8,3],9],[[3,4],8]]]',\n",
       " '[[7,[8,4]],1]',\n",
       " '[6,[[3,[5,6]],[0,6]]]',\n",
       " '[[[7,[4,7]],[[4,5],[4,3]]],[[5,5],[0,[4,2]]]]',\n",
       " '[[[0,[2,9]],[[2,4],[4,8]]],[[8,[9,5]],[[9,6],0]]]',\n",
       " '[[[[2,0],[9,7]],[[3,2],0]],[7,7]]',\n",
       " '[[5,[2,1]],[[3,[5,1]],[[8,5],[1,8]]]]',\n",
       " '[[[[9,7],6],[[7,8],7]],[[[6,8],9],[[9,5],7]]]',\n",
       " '[[4,2],[[[0,1],[7,2]],[[0,2],[5,5]]]]',\n",
       " '[[1,8],[[5,[7,9]],[[3,1],[7,1]]]]',\n",
       " '[[[4,[4,6]],6],5]',\n",
       " '[[[5,[3,6]],6],[[[8,0],[8,6]],[[3,3],[0,1]]]]',\n",
       " '[[4,[[2,6],[0,9]]],[[0,6],[4,2]]]',\n",
       " '[[[[9,4],[6,5]],7],[[[1,5],[0,9]],[4,[4,2]]]]',\n",
       " '[[7,[[6,5],8]],[[[5,6],0],[6,[3,5]]]]',\n",
       " '[[[5,[6,4]],[8,[0,4]]],[[3,[9,3]],4]]',\n",
       " '[[[[4,0],6],[6,[6,5]]],[[9,[6,3]],[[9,6],7]]]',\n",
       " '[[[[2,2],4],[8,[7,2]]],[2,1]]',\n",
       " '[5,[9,[[5,9],4]]]',\n",
       " '[[[1,[7,7]],[[2,2],8]],[[[9,7],5],[4,3]]]',\n",
       " '[[[[6,8],1],1],[1,[[2,0],6]]]',\n",
       " '[[[[0,5],8],[[8,9],[9,3]]],[[[5,5],[4,2]],2]]',\n",
       " '[[[9,[2,5]],[6,[1,7]]],[5,[3,[2,2]]]]',\n",
       " '[[[7,6],8],[[[1,9],3],[5,2]]]',\n",
       " '[8,[[2,[0,7]],8]]',\n",
       " '[[[[8,1],[0,0]],5],1]',\n",
       " '[[1,[[4,8],0]],[[9,[7,8]],5]]',\n",
       " '[[[[1,3],1],[[9,8],[6,6]]],5]',\n",
       " '[[[3,2],[[0,5],[0,1]]],[[9,[9,3]],[4,9]]]',\n",
       " '[[[0,[2,4]],[[3,3],[6,5]]],[[1,[2,1]],[[3,4],9]]]',\n",
       " '[[2,[3,[7,6]]],[5,5]]',\n",
       " '[[[[8,2],0],[[9,6],[9,0]]],[[[6,2],[5,0]],9]]',\n",
       " '[7,[9,7]]',\n",
       " '[3,[[[5,5],1],[8,5]]]',\n",
       " '[[[5,5],[5,6]],[9,5]]',\n",
       " '[[[9,7],[1,2]],[8,[5,[7,0]]]]',\n",
       " '[[[1,[5,2]],[7,[8,9]]],[2,[[4,5],[2,3]]]]',\n",
       " '[[[4,[2,2]],[5,[4,7]]],[[[0,3],2],[5,[2,6]]]]',\n",
       " '[[0,[[6,5],5]],[[7,[7,2]],3]]',\n",
       " '[[[4,[9,4]],[1,9]],[7,[[7,1],[6,1]]]]',\n",
       " '[1,[0,2]]',\n",
       " '[[[[5,1],[2,1]],[[7,8],6]],[[3,[4,9]],2]]',\n",
       " '[[9,[[4,0],[8,8]]],[[[6,6],[2,8]],[1,[1,5]]]]',\n",
       " '[[[1,2],[7,0]],[7,[[3,0],5]]]',\n",
       " '[[[6,[0,8]],3],[[3,7],1]]',\n",
       " '[[[[6,1],[1,0]],9],[[4,8],[3,[0,8]]]]',\n",
       " '[[6,[3,[5,8]]],9]',\n",
       " '[[[[5,0],[7,7]],[[3,1],[4,8]]],5]',\n",
       " '[[[3,7],[9,0]],[[[0,2],7],0]]',\n",
       " '[8,9]',\n",
       " '[[8,[[0,8],4]],[1,[[4,6],2]]]',\n",
       " '[[[5,5],3],[[6,6],[0,[6,3]]]]',\n",
       " '[[[7,[3,7]],[[6,1],[9,4]]],[[[8,9],1],[[8,7],6]]]',\n",
       " '[[6,[[0,9],[2,3]]],[[1,[5,3]],[8,4]]]',\n",
       " '[[[3,5],8],[[[2,4],[7,5]],5]]',\n",
       " '[[0,[[7,0],[9,4]]],[[[0,0],[6,7]],[6,5]]]',\n",
       " '[[[[1,9],[6,4]],0],[6,[3,[4,8]]]]',\n",
       " '[[[[1,6],[0,4]],8],[[8,8],6]]',\n",
       " '[[[[7,4],[9,6]],7],[[1,6],[1,0]]]',\n",
       " '[1,[[[6,8],5],5]]',\n",
       " '[8,4]',\n",
       " '[9,[[9,[3,9]],0]]',\n",
       " '[5,[[[4,9],7],[[1,0],0]]]',\n",
       " '[[[6,1],[0,[2,3]]],[[[7,8],[5,9]],9]]',\n",
       " '[3,[[3,[3,4]],[6,[7,8]]]]',\n",
       " '[[[7,[7,1]],[4,[2,0]]],[6,[7,3]]]',\n",
       " '[[6,9],[[3,[4,7]],3]]',\n",
       " '[1,[[9,[5,1]],[7,[7,5]]]]',\n",
       " '[[3,2],[[9,[6,8]],[[1,0],2]]]',\n",
       " '[[[[3,2],8],[7,6]],9]',\n",
       " '[[3,[[9,5],6]],[5,9]]',\n",
       " '[[[3,[6,3]],[[7,0],[5,7]]],[[3,3],[[4,9],[4,8]]]]',\n",
       " '[[[0,[4,3]],2],[3,[0,[1,3]]]]',\n",
       " '[[[7,[3,4]],[7,[3,1]]],[[0,[4,7]],6]]',\n",
       " '[[[1,[7,4]],[[8,7],3]],4]',\n",
       " '[[[5,5],[[0,3],2]],[1,[[9,4],6]]]',\n",
       " '[[[[6,0],[8,8]],[6,[6,0]]],[5,6]]',\n",
       " '[[[1,[5,4]],[[5,9],[1,7]]],[[5,[4,7]],[4,[4,4]]]]',\n",
       " '[[0,[[2,6],0]],[[6,[4,3]],5]]',\n",
       " '[[[1,[5,3]],[9,[1,2]]],[[[4,8],[5,6]],0]]',\n",
       " '[[0,7],[1,[7,7]]]',\n",
       " '[4,[[7,[7,2]],[[9,1],7]]]',\n",
       " '[2,[[1,6],[6,9]]]',\n",
       " '[[[4,[4,5]],9],[[[1,7],6],[3,[7,3]]]]',\n",
       " '[[6,[[1,1],[7,8]]],[[[5,2],[8,1]],5]]',\n",
       " '[[[5,5],[[4,1],[1,2]]],[[3,8],[3,4]]]',\n",
       " '[[[[1,9],[0,3]],[4,[0,9]]],4]',\n",
       " '[[[4,9],0],[[9,0],[8,[7,5]]]]',\n",
       " '[[6,[5,3]],[[[6,6],4],[[6,8],4]]]',\n",
       " '[[[[1,1],2],1],[1,[[6,4],2]]]',\n",
       " '[[[[6,3],[1,5]],[6,[7,7]]],[6,6]]',\n",
       " '[[[[3,0],[5,6]],1],[[[9,3],[1,7]],[[3,4],[2,7]]]]']"
      ]
     },
     "execution_count": 7,
     "metadata": {},
     "output_type": "execute_result"
    }
   ],
   "source": [
    "contents"
   ]
  },
  {
   "cell_type": "code",
   "execution_count": 8,
   "id": "cf1d5f85",
   "metadata": {},
   "outputs": [
    {
     "name": "stdout",
     "output_type": "stream",
     "text": [
      "[[0,6],[[[4,0],[6,6]],[[2,2],9]]]\n",
      "[[[0,[5,5]],[[6,8],[5,7]]],[[[0,8],[7,6]],[[9,0],[8,9]]]]\n",
      "[[[[6,6],[0,7]],[[7,7],[7,7]]],[[[6,7],[7,7]],[[5,0],[9,5]]]]\n",
      "[[[[6,7],[7,7]],[[7,7],[0,7]]],[[[7,7],[7,7]],[[7,8],[8,8]]]]\n",
      "[[[[6,6],[7,7]],[[7,7],[7,7]]],[[[0,7],[7,8]],[[8,8],[8,8]]]]\n",
      "[[[[7,8],[7,8]],[[8,8],[8,8]]],[[[7,0],[8,7]],[9,[5,5]]]]\n",
      "[[[[7,7],[7,0]],[[7,7],[7,7]]],[[[7,7],[7,7]],[[7,7],[7,8]]]]\n",
      "[[[[7,7],[7,7]],[[7,7],[0,7]]],[[[7,7],[7,7]],[[7,8],[8,9]]]]\n",
      "[[[[6,6],[6,6]],[[6,6],[0,7]]],[[[7,7],[7,7]],[[8,8],[8,7]]]]\n",
      "[[[[7,7],[7,7]],[[7,7],[8,8]]],[[[8,0],[9,9]],[6,6]]]\n",
      "[[[[6,7],[0,7]],[[7,7],[8,9]]],[[9,[5,5]],[[8,0],[6,6]]]]\n",
      "[[[[7,7],[7,7]],[[7,7],[7,7]]],[[[7,7],[8,8]],[[0,9],[9,8]]]]\n",
      "[[[[7,7],[7,7]],[[7,7],[7,0]]],[[[7,7],[7,7]],[[8,8],[8,8]]]]\n",
      "[[[[7,0],[7,8]],[[7,7],[8,8]]],[[[8,7],[6,7]],[[7,7],[6,6]]]]\n",
      "[[[[7,0],[7,7]],[[7,7],[7,7]]],[[[8,7],[7,9]],[[8,9],[6,0]]]]\n",
      "[[[[7,7],[7,7]],[[0,7],[7,7]]],[[[8,8],[8,8]],[[8,8],[8,9]]]]\n",
      "[[[[0,7],[8,8]],[[8,8],[7,8]]],[[[8,7],[8,9]],[[8,2],[7,0]]]]\n",
      "[[[[7,8],[7,8]],[[9,5],[8,6]]],[[[9,8],[8,8]],[[0,8],[9,9]]]]\n",
      "[[[[7,7],[7,7]],[[7,0],[8,8]]],[[[8,8],[9,9]],[8,9]]]\n",
      "[[[[6,7],[8,8]],[[8,7],[8,7]]],[[[8,7],[9,7]],[[9,7],[0,7]]]]\n",
      "[[[[7,7],[7,7]],[[7,7],[0,7]]],[[[7,7],[7,7]],[[7,7],[7,8]]]]\n",
      "[[[[6,6],[6,0]],[[7,7],[7,7]]],[[[7,7],[8,7]],[[7,7],[8,9]]]]\n",
      "[[[[7,7],[7,7]],[[7,7],[7,7]]],[[[7,8],[8,9]],[[7,8],[0,8]]]]\n",
      "[[[[6,6],[6,0]],[[7,7],[7,7]]],[[[7,7],[7,6]],[[6,7],[7,8]]]]\n",
      "[[[[7,7],[7,0]],[[7,7],[7,7]]],[[[7,7],[7,8]],[[7,7],[8,8]]]]\n",
      "[[[[6,6],[6,0]],[[7,7],[7,7]]],[[[7,7],[6,6]],[[7,8],[5,5]]]]\n",
      "[[[[7,7],[7,8]],[[7,0],[8,7]]],[[[6,7],[7,7]],[[7,7],[6,0]]]]\n",
      "[[[[0,7],[7,7]],[[7,7],[7,7]]],[[[7,7],[8,8]],[[7,7],[5,5]]]]\n",
      "[[[[6,7],[7,7]],[[7,7],[7,7]]],[[[8,0],[8,8]],[[6,7],[0,6]]]]\n",
      "[[[[7,7],[7,7]],[[7,7],[8,8]]],[[[7,7],[7,8]],[[0,8],[8,9]]]]\n",
      "[[[[6,6],[7,7]],[[7,7],[7,8]]],[[[7,7],[8,7]],[[9,7],[0,7]]]]\n",
      "[[[[7,7],[7,7]],[[7,7],[7,7]]],[[[0,7],[7,8]],[[8,8],[8,9]]]]\n",
      "[[[[7,7],[6,6]],[[7,0],[7,7]]],[[[7,7],[7,7]],[[7,6],[7,8]]]]\n",
      "[[[[6,6],[6,6]],[[6,6],[0,7]]],[[[7,7],[7,8]],[5,5]]]\n",
      "[[[[7,7],[8,8]],[[0,8],[9,8]]],[[[6,7],[8,0]],[[8,8],[6,7]]]]\n",
      "[[[[7,7],[7,7]],[[7,7],[7,8]]],[[[8,0],[8,7]],[[7,8],[7,8]]]]\n",
      "[[[[7,7],[7,7]],[[7,7],[0,7]]],[[[7,8],[8,8]],[[8,8],[7,7]]]]\n",
      "[[[[7,7],[7,7]],[[7,0],[7,7]]],[[[7,7],[7,7]],[[8,8],[7,7]]]]\n",
      "[[[[6,6],[6,7]],[[7,7],[8,7]]],[[[7,8],[6,7]],[[0,8],[6,7]]]]\n",
      "[[[[7,6],[7,7]],[[6,7],[0,7]]],[[[7,7],[7,7]],[[7,7],[8,9]]]]\n",
      "[[[[6,6],[6,7]],[[7,0],[7,7]]],[[[8,9],[8,7]],[[7,7],7]]]\n",
      "[[[[7,0],[7,7]],[[7,7],[6,6]]],[[[7,8],[7,8]],[[0,6],[8,5]]]]\n",
      "[[[[6,0],[7,7]],[[7,7],[8,7]]],[[[7,7],[6,7]],[[9,9],5]]]\n",
      "[[[[7,7],[7,0]],[[7,7],[7,8]]],[[[7,8],[7,7]],[[7,7],[7,6]]]]\n",
      "[[[[7,7],[7,7]],[[7,7],[0,8]]],[[[8,8],[8,8]],[[8,9],[9,9]]]]\n",
      "[[[[6,6],[6,7]],[[0,7],[7,7]]],[[[7,7],[7,7]],[[7,8],[8,7]]]]\n",
      "[[[[7,7],[7,7]],[[7,0],[7,7]]],[[[7,7],[7,8]],[[8,8],[7,7]]]]\n",
      "[[[[6,6],[7,7]],[[7,7],[7,7]]],[[[7,8],[8,0]],[[8,8],[8,8]]]]\n",
      "[[[[7,7],[7,7]],[[9,5],[8,0]]],[[[7,8],[8,8]],[0,2]]]\n",
      "[[[[7,7],[7,7]],[[7,7],[7,0]]],[[[8,8],[7,7]],[[7,7],[5,6]]]]\n",
      "[[[[6,6],[7,7]],[[7,7],[7,0]]],[[[7,7],[7,7]],[[7,8],[8,9]]]]\n",
      "[[[[7,7],[7,7]],[[7,7],[0,8]]],[[[8,8],[8,7]],[[7,8],[0,5]]]]\n",
      "[[[[6,6],[7,6]],[[7,7],[8,7]]],[[[7,7],[7,0]],[[7,7],8]]]\n",
      "[[[[6,7],[7,7]],[[7,8],[7,8]]],[[[8,0],[8,7]],[[9,8],[3,0]]]]\n",
      "[[[[6,7],[7,7]],[[8,7],[6,8]]],[[[9,0],[9,9]],[8,9]]]\n",
      "[[[[6,6],[6,7]],[[7,0],[7,7]]],[[[7,8],[9,9]],[[6,6],[6,6]]]]\n",
      "[[[[6,7],[7,7]],[[7,8],[8,9]]],[[[7,8],[7,7]],[[0,7],7]]]\n",
      "[[[[7,7],[8,0]],[[8,8],[8,7]]],[[[6,6],[6,7]],9]]\n",
      "[[[[8,9],[7,8]],[[7,8],[0,9]]],[[[9,9],[6,0]],[[5,6],[0,8]]]]\n",
      "[[[[6,6],[6,7]],[[7,7],[8,0]]],[[[9,9],[7,7]],[[6,6],[6,0]]]]\n",
      "[[[[0,7],[7,7]],[[7,7],[7,7]]],[[[8,8],[8,8]],[[8,7],[8,9]]]]\n",
      "[[[[6,6],[6,7]],[[7,7],[7,0]]],[[[7,7],[7,7]],[[7,8],[8,9]]]]\n",
      "[[[[6,7],[7,0]],[[7,7],[7,7]]],[[[7,7],[7,7]],[[7,7],[7,7]]]]\n",
      "[[[[7,6],[6,7]],[[7,7],[7,0]]],[[[7,8],[8,8]],[[8,8],[8,7]]]]\n",
      "[[[[6,6],[6,7]],[[7,7],[7,7]]],[[[7,7],[7,0]],[[7,8],[8,8]]]]\n",
      "[[[[7,7],[7,7]],[[7,7],[0,7]]],[[[7,8],[8,8]],[[8,8],[7,8]]]]\n",
      "[[[[6,6],[6,7]],[[7,7],[7,0]]],[[[7,7],[7,7]],[[7,8],[7,7]]]]\n",
      "[[[[0,7],[7,7]],[[8,7],[8,7]]],[[[7,7],[7,7]],[[6,0],[6,6]]]]\n",
      "[[[[6,6],[8,7]],[[8,7],[0,7]]],[[[7,8],[7,8]],4]]\n",
      "[[[[7,7],[7,0]],[[7,8],[7,7]]],[[8,[7,8]],[[0,6],9]]]\n",
      "[[[[6,6],[6,6]],[[0,7],[7,7]]],[[[6,7],[7,7]],[[8,0],[9,0]]]]\n",
      "[[[[6,7],[7,8]],[[8,8],[7,7]]],[[[0,8],[7,7]],[[8,9],[9,9]]]]\n",
      "[[[[7,7],[7,8]],[[0,8],[8,7]]],[[[8,9],[8,9]],[[6,8],[0,9]]]]\n",
      "[[[[6,6],[6,7]],[[7,7],[7,7]]],[[[7,6],[0,7]],[[7,7],[7,7]]]]\n",
      "[[[[7,7],[7,0]],[[8,8],[8,8]]],[[[8,8],[9,9]],[[7,0],[5,5]]]]\n",
      "[[[[7,7],[0,7]],[[7,8],[8,9]]],[[[7,7],[6,0]],[[6,7],[7,8]]]]\n",
      "[[[[6,7],[7,7]],[[7,7],[8,7]]],[[[7,0],[8,8]],[[7,8],[9,2]]]]\n",
      "[[[[6,6],[6,7]],[[7,7],[8,7]]],[[[8,7],[0,7]],[[6,7],[7,7]]]]\n",
      "[[[[6,7],[7,8]],[[7,8],[9,7]]],[[[8,9],[5,5]],[[8,0],[8,9]]]]\n",
      "[[[[6,7],[7,7]],[[0,7],[7,7]]],[[[7,7],[7,7]],[[7,8],[8,9]]]]\n",
      "[[[[7,0],[7,7]],[[7,8],[8,8]]],[[[9,9],[7,7]],[3,[1,0]]]]\n",
      "[[[[7,7],[7,7]],[[7,8],[7,7]]],[[[0,8],[7,7]],[[6,5],[6,7]]]]\n",
      "[[[[7,7],[6,7]],[[7,7],[7,7]]],[[[9,7],[0,7]],[[6,6],[6,7]]]]\n",
      "[[[[6,6],[7,0]],[[7,7],[7,7]]],[[[7,7],[7,7]],[[8,9],[5,0]]]]\n",
      "[[[[6,6],[6,6]],[[6,7],[0,7]]],[[[7,7],[7,7]],[[8,9],[8,8]]]]\n",
      "[[[[6,6],[6,7]],[[7,0],[7,7]]],[[[7,7],[7,7]],[[8,8],[8,7]]]]\n",
      "[[[[6,6],[6,7]],[[7,7],[7,7]]],[[[7,8],[0,8]],[[9,9],8]]]\n",
      "[[[[6,7],[7,7]],[[7,7],[0,7]]],[[[7,7],[8,8]],[[8,9],[8,8]]]]\n",
      "[[[[6,6],[7,7]],[[7,8],[7,7]]],[[[7,0],[8,8]],[[5,5],[7,7]]]]\n",
      "[[[[6,6],[7,7]],[[7,7],[7,0]]],[[[8,7],[7,7]],[[8,8],[9,8]]]]\n",
      "[[[[7,0],[8,7]],[[7,7],[7,6]]],[[[7,8],[8,8]],[[1,6],[6,9]]]]\n",
      "[[[[6,6],[6,6]],[[7,7],[7,7]]],[[[7,7],[8,8]],[[8,0],[8,8]]]]\n",
      "[[[[6,7],[7,7]],[[0,7],[7,7]]],[[[7,7],[7,8]],[[9,9],[8,9]]]]\n",
      "[[[[6,7],[7,7]],[[7,7],[0,7]]],[[[7,7],[7,7]],[[8,8],[7,6]]]]\n",
      "[[[[6,6],[6,6]],[[6,7],[7,0]]],[[[7,8],[8,8]],[[5,6],[6,6]]]]\n",
      "[[[[6,6],[6,6]],[[6,0],[7,7]]],[[[7,7],[7,7]],[[7,8],[8,8]]]]\n",
      "[[[[7,7],[7,7]],[[8,7],[8,8]]],[[[8,7],[8,7]],[[7,9],[0,9]]]]\n",
      "[[[[6,6],[7,7]],[[7,7],[0,7]]],[[[7,7],[9,9]],[7,[0,6]]]]\n",
      "[[[[7,7],[7,7]],[[7,7],[0,7]]],[[[7,8],[7,8]],[[7,8],[7,8]]]]\n",
      "[[[[6,6],[6,6]],[[6,7],[7,8]]],[[[7,8],[8,8]],[[7,8],[0,8]]]]\n"
     ]
    },
    {
     "data": {
      "text/plain": [
       "4088"
      ]
     },
     "execution_count": 8,
     "metadata": {},
     "output_type": "execute_result"
    }
   ],
   "source": [
    "crazy_snail = Snail(contents[0])\n",
    "print(crazy_snail)\n",
    "for s in contents[1:]:\n",
    "    crazy_snail.add(Snail(s))\n",
    "    print(crazy_snail)\n",
    "magnitude(crazy_snail)"
   ]
  },
  {
   "cell_type": "markdown",
   "id": "8267981a",
   "metadata": {},
   "source": [
    "#### Part two\n",
    "\n",
    "Which can be classified under 'could have been much worse'"
   ]
  },
  {
   "cell_type": "code",
   "execution_count": 9,
   "id": "19b39994",
   "metadata": {},
   "outputs": [],
   "source": [
    "def part_two(slist):\n",
    "    max_score = 0\n",
    "    s1 = ''\n",
    "    s2 = ''\n",
    "    for one in slist:\n",
    "        for two in slist:\n",
    "            if one != two:\n",
    "                s = Snail(one)\n",
    "                s.add(Snail(two))\n",
    "                sc = magnitude(s)\n",
    "                if sc > max_score:\n",
    "                    max_score = sc\n",
    "                    s1 = one\n",
    "                    s2 = two\n",
    "                s = Snail(two)\n",
    "                s.add(Snail(one))\n",
    "                sc = magnitude(s)\n",
    "                if sc > max_score:\n",
    "                    max_score = sc\n",
    "                    s1 = two\n",
    "                    s2 = one\n",
    "    return max_score, s1, s2\n",
    "                    "
   ]
  },
  {
   "cell_type": "code",
   "execution_count": 10,
   "id": "5260dba1",
   "metadata": {},
   "outputs": [
    {
     "data": {
      "text/plain": [
       "(3993,\n",
       " '[[2,[[7,7],7]],[[5,8],[[9,3],[0,2]]]]',\n",
       " '[[[0,[5,8]],[[1,7],[9,6]]],[[4,[1,2]],[[1,4],2]]]')"
      ]
     },
     "execution_count": 10,
     "metadata": {},
     "output_type": "execute_result"
    }
   ],
   "source": [
    "part_two(slines)"
   ]
  },
  {
   "cell_type": "code",
   "execution_count": 11,
   "id": "0d988114",
   "metadata": {},
   "outputs": [
    {
     "data": {
      "text/plain": [
       "(4536,\n",
       " '[[[1,[7,7]],[[2,2],8]],[[[9,7],5],[4,3]]]',\n",
       " '[[[[8,2],0],[[9,6],[9,0]]],[[[6,2],[5,0]],9]]')"
      ]
     },
     "execution_count": 11,
     "metadata": {},
     "output_type": "execute_result"
    }
   ],
   "source": [
    "part_two(contents)"
   ]
  },
  {
   "cell_type": "code",
   "execution_count": null,
   "id": "a904eac8",
   "metadata": {},
   "outputs": [],
   "source": []
  },
  {
   "cell_type": "code",
   "execution_count": null,
   "id": "b9356794",
   "metadata": {},
   "outputs": [],
   "source": []
  },
  {
   "cell_type": "markdown",
   "id": "5e184ef8",
   "metadata": {},
   "source": [
    "### Tests of the class functions"
   ]
  },
  {
   "cell_type": "code",
   "execution_count": 12,
   "id": "f8764740",
   "metadata": {},
   "outputs": [
    {
     "data": {
      "text/plain": [
       "'[[2,3],[[[[[9,8],1],2],3],4]]'"
      ]
     },
     "execution_count": 12,
     "metadata": {},
     "output_type": "execute_result"
    }
   ],
   "source": [
    "t.add_string(k)"
   ]
  },
  {
   "cell_type": "code",
   "execution_count": 13,
   "id": "b99c1941",
   "metadata": {},
   "outputs": [
    {
     "data": {
      "text/plain": [
       "5"
      ]
     },
     "execution_count": 13,
     "metadata": {},
     "output_type": "execute_result"
    }
   ],
   "source": [
    "tp.depth()"
   ]
  },
  {
   "cell_type": "code",
   "execution_count": 14,
   "id": "6ce4083a",
   "metadata": {},
   "outputs": [
    {
     "data": {
      "text/plain": [
       "4"
      ]
     },
     "execution_count": 14,
     "metadata": {},
     "output_type": "execute_result"
    }
   ],
   "source": [
    "tp2.depth()"
   ]
  },
  {
   "cell_type": "code",
   "execution_count": 15,
   "id": "41abc366",
   "metadata": {},
   "outputs": [
    {
     "data": {
      "text/plain": [
       "['[[[0', '[4', '5]]', '[0', '0]]', '[[[4', '5]', '[2', '6]]', '[9', '5]]]']"
      ]
     },
     "execution_count": 15,
     "metadata": {},
     "output_type": "execute_result"
    }
   ],
   "source": [
    "tp2.comma_split()"
   ]
  },
  {
   "cell_type": "code",
   "execution_count": 16,
   "id": "dbe55173",
   "metadata": {},
   "outputs": [
    {
     "data": {
      "text/plain": [
       "['[[3', '[2', '[1', '[7', '3]]]]', '[6', '[5', '[4', '[3', '2]]]]]']"
      ]
     },
     "execution_count": 16,
     "metadata": {},
     "output_type": "execute_result"
    }
   ],
   "source": [
    "tp.comma_split()"
   ]
  },
  {
   "cell_type": "code",
   "execution_count": 17,
   "id": "a7c63277",
   "metadata": {},
   "outputs": [
    {
     "data": {
      "text/plain": [
       "[2, 1, 1, 1, 0, 1, 1, 1, 1, 0]"
      ]
     },
     "execution_count": 17,
     "metadata": {},
     "output_type": "execute_result"
    }
   ],
   "source": [
    "tp.left_counts()"
   ]
  },
  {
   "cell_type": "code",
   "execution_count": 18,
   "id": "e0aa844d",
   "metadata": {},
   "outputs": [
    {
     "data": {
      "text/plain": [
       "[0, 0, 0, 0, 4, 0, 0, 0, 0, 5]"
      ]
     },
     "execution_count": 18,
     "metadata": {},
     "output_type": "execute_result"
    }
   ],
   "source": [
    "tp.right_counts()"
   ]
  },
  {
   "cell_type": "code",
   "execution_count": 19,
   "id": "a82546f0",
   "metadata": {},
   "outputs": [
    {
     "data": {
      "text/plain": [
       "[2, 3, 4, 5, 1, 2, 3, 4, 5, 0]"
      ]
     },
     "execution_count": 19,
     "metadata": {},
     "output_type": "execute_result"
    }
   ],
   "source": [
    "tp.depth_array()"
   ]
  },
  {
   "cell_type": "code",
   "execution_count": 20,
   "id": "a47b350f",
   "metadata": {},
   "outputs": [
    {
     "name": "stdout",
     "output_type": "stream",
     "text": [
      "[[[[[9,8],1],2],3],4]\n",
      "[[[[0,9],2],3],4]\n",
      "[[[[0,9],2],3],4]\n",
      "[[[[0,9],2],3],4]\n"
     ]
    },
    {
     "data": {
      "text/plain": [
       "True"
      ]
     },
     "execution_count": 20,
     "metadata": {},
     "output_type": "execute_result"
    }
   ],
   "source": [
    "\n",
    "print(k)\n",
    "print(k.single_boom())\n",
    "print(k.boom())\n",
    "print(pk)\n",
    "k.single_boom() == pk.hw"
   ]
  },
  {
   "cell_type": "code",
   "execution_count": 21,
   "id": "1cad02e9",
   "metadata": {},
   "outputs": [
    {
     "name": "stdout",
     "output_type": "stream",
     "text": [
      "[[3,[2,[1,[7,3]]]],[6,[5,[4,[3,2]]]]]\n",
      "[[3,[2,[8,0]]],[9,[5,[4,[3,2]]]]]\n",
      "[[3,[2,[8,0]]],[9,[5,[4,[3,2]]]]]\n",
      "[[3,[2,[8,0]]],[9,[5,[4,[3,2]]]]]\n"
     ]
    },
    {
     "data": {
      "text/plain": [
       "True"
      ]
     },
     "execution_count": 21,
     "metadata": {},
     "output_type": "execute_result"
    }
   ],
   "source": [
    "print(tp)\n",
    "print(tp.single_boom())\n",
    "print(tp.boom())\n",
    "print(ptp)\n",
    "tp.single_boom() == ptp.hw\n"
   ]
  },
  {
   "cell_type": "code",
   "execution_count": 22,
   "id": "6a6368bf",
   "metadata": {},
   "outputs": [
    {
     "name": "stdout",
     "output_type": "stream",
     "text": [
      "[[3,[2,[8,0]]],[9,[5,[4,[3,2]]]]]\n",
      "[[3,[2,[8,0]]],[9,[5,[7,0]]]]\n",
      "[[3,[2,[8,0]]],[9,[5,[7,0]]]]\n",
      "[[3,[2,[8,0]]],[9,[5,[7,0]]]]\n"
     ]
    },
    {
     "data": {
      "text/plain": [
       "True"
      ]
     },
     "execution_count": 22,
     "metadata": {},
     "output_type": "execute_result"
    }
   ],
   "source": [
    "print(ptp)\n",
    "print(ptp.single_boom())\n",
    "print(ptp.boom())\n",
    "print(pptp)\n",
    "ptp.single_boom() == pptp.hw"
   ]
  },
  {
   "cell_type": "code",
   "execution_count": 23,
   "id": "690ae6a0",
   "metadata": {},
   "outputs": [
    {
     "name": "stdout",
     "output_type": "stream",
     "text": [
      "[2, 3, 4, 1, 2, 3, 4, 0]\n"
     ]
    },
    {
     "data": {
      "text/plain": [
       "4"
      ]
     },
     "execution_count": 23,
     "metadata": {},
     "output_type": "execute_result"
    }
   ],
   "source": [
    "print(pptp.depth_array())\n",
    "pptp.depth()"
   ]
  },
  {
   "cell_type": "code",
   "execution_count": 24,
   "id": "a42d19a9",
   "metadata": {},
   "outputs": [
    {
     "name": "stdout",
     "output_type": "stream",
     "text": [
      "[[[[0,7],4],[15,[0,13]]],[1,1]]\n",
      "[[[[0,7],4],[[7,8],[0,13]]],[1,1]]\n",
      "[[[[0,7],4],[[7,8],[0,[6,7]]]],[1,1]]\n",
      "[[[[0,7],4],[[7,8],[6,0]]],[8,1]]\n",
      "\n",
      "Before  split:   [[[[0,7],4],[15,[0,13]]],[1,1]]\n",
      "After   split:   [[[[0,7],4],[[7,8],[0,13]]],[1,1]]\n",
      "After explode:   [[[[0,7],4],[[7,8],[0,13]]],[1,1]]\n",
      "\n",
      "Before  split:   [[[[0,7],4],[[7,8],[0,13]]],[1,1]]\n",
      "After   split:   [[[[0,7],4],[[7,8],[0,[6,7]]]],[1,1]]\n",
      "After explode:   [[[[0,7],4],[[7,8],[6,0]]],[8,1]]\n",
      "\n"
     ]
    }
   ],
   "source": [
    "j = Snail('[[[[0,7],4],[15,[0,13]]],[1,1]]')\n",
    "print(j)\n",
    "print(sj)\n",
    "print(ssj)\n",
    "print(fssj)\n",
    "print()\n",
    "j.reduce(verbose = True)"
   ]
  },
  {
   "cell_type": "code",
   "execution_count": 25,
   "id": "025ec31c",
   "metadata": {},
   "outputs": [],
   "source": [
    "big_example = ['[[[0,[4,5]],[0,0]],[[[4,5],[2,6]],[9,5]]]',\n",
    "               '[7,[[[3,7],[4,3]],[[6,3],[8,8]]]]',\n",
    "               '[[2,[[0,8],[3,4]]],[[[6,7],1],[7,[1,6]]]]',\n",
    "               '[[[[2,4],7],[6,[0,5]]],[[[6,8],[2,8]],[[2,1],[4,5]]]]',\n",
    "               '[7,[5,[[3,8],[1,4]]]]',\n",
    "               '[[2,[2,2]],[8,[8,1]]]',\n",
    "               '[2,9]',\n",
    "               '[1,[[[9,3],9],[[9,0],[0,7]]]]',\n",
    "               '[[[5,[7,4]],7],1]','[[[[4,2],2],6],[8,7]]']\n",
    "\n",
    "bsnails = [Snail(t) for t in big_example]\n"
   ]
  },
  {
   "cell_type": "code",
   "execution_count": 26,
   "id": "b58a71c8",
   "metadata": {},
   "outputs": [
    {
     "data": {
      "text/plain": [
       "[[[0,[4,5]],[0,0]],[[[4,5],[2,6]],[9,5]]]"
      ]
     },
     "execution_count": 26,
     "metadata": {},
     "output_type": "execute_result"
    }
   ],
   "source": [
    "bsnails[0]"
   ]
  },
  {
   "cell_type": "code",
   "execution_count": 27,
   "id": "f8b183f6",
   "metadata": {},
   "outputs": [
    {
     "name": "stdout",
     "output_type": "stream",
     "text": [
      "[[[[4,0],[5,4]],[[7,7],[6,0]]],[[8,[7,7]],[[7,9],[5,0]]]]\n"
     ]
    },
    {
     "data": {
      "text/plain": [
       "True"
      ]
     },
     "execution_count": 27,
     "metadata": {},
     "output_type": "execute_result"
    }
   ],
   "source": [
    "#Note if you rerun this twice the result will be False\n",
    "bsnails[0].add(bsnails[1])\n",
    "print(bsnails[0])\n",
    "bsnails[0].hw == '[[[[4,0],[5,4]],[[7,7],[6,0]]],[[8,[7,7]],[[7,9],[5,0]]]]' \n"
   ]
  },
  {
   "cell_type": "code",
   "execution_count": 28,
   "id": "58a329a4",
   "metadata": {},
   "outputs": [
    {
     "name": "stdout",
     "output_type": "stream",
     "text": [
      "[[[[6,7],[6,7]],[[7,7],[0,7]]],[[[8,7],[7,7]],[[8,8],[8,0]]]]\n"
     ]
    },
    {
     "data": {
      "text/plain": [
       "True"
      ]
     },
     "execution_count": 28,
     "metadata": {},
     "output_type": "execute_result"
    }
   ],
   "source": [
    "bsnails[0].add(bsnails[2])\n",
    "print(bsnails[0])\n",
    "bsnails[0].hw == '[[[[6,7],[6,7]],[[7,7],[0,7]]],[[[8,7],[7,7]],[[8,8],[8,0]]]]'"
   ]
  },
  {
   "cell_type": "code",
   "execution_count": 29,
   "id": "52501b95",
   "metadata": {},
   "outputs": [
    {
     "name": "stdout",
     "output_type": "stream",
     "text": [
      "[2,3]\n",
      "[[[[[9,8],1],2],3],4]\n"
     ]
    },
    {
     "data": {
      "text/plain": [
       "([[2,3],[[[5,0],9],4]], [[[[0,9],2],3],4])"
      ]
     },
     "execution_count": 29,
     "metadata": {},
     "output_type": "execute_result"
    }
   ],
   "source": [
    "####\n",
    "#   This example initially produced the issue that found the bug in single_boom.  \n",
    "##  Because when we add t + k in this order, the result was \n",
    "#     weird.\n",
    "####\n",
    "\n",
    "\n",
    "\n",
    "t = Snail('[2,3]')\n",
    "u = Snail('[[8,4],3]')\n",
    "#Examples pre and post where explosions are necessary\n",
    "k = Snail('[[[[[9,8],1],2],3],4]')\n",
    "pk = Snail('[[[[0,9],2],3],4]')\n",
    "\n",
    "print(t)\n",
    "print(k)\n",
    "t.add(k)\n",
    "t,k"
   ]
  },
  {
   "cell_type": "code",
   "execution_count": 30,
   "id": "a93a203b",
   "metadata": {},
   "outputs": [
    {
     "data": {
      "text/plain": [
       "[[[[[4,3],4],4],[7,[[8,4],9]]],[1,1]]"
      ]
     },
     "execution_count": 30,
     "metadata": {},
     "output_type": "execute_result"
    }
   ],
   "source": [
    "vey = Snail('[[[[[4,3],4],4],[7,[[8,4],9]]],[1,1]]')\n",
    "vey"
   ]
  },
  {
   "cell_type": "code",
   "execution_count": 31,
   "id": "cd4bba6a",
   "metadata": {},
   "outputs": [
    {
     "data": {
      "text/plain": [
       "[[[[0,7],4],[7,[[8,4],9]]],[1,1]]"
      ]
     },
     "execution_count": 31,
     "metadata": {},
     "output_type": "execute_result"
    }
   ],
   "source": [
    "sip = Snail(vey.single_boom())\n",
    "assert(sip.hw == '[[[[0,7],4],[7,[[8,4],9]]],[1,1]]')\n",
    "sip"
   ]
  },
  {
   "cell_type": "code",
   "execution_count": 32,
   "id": "caa531f7",
   "metadata": {},
   "outputs": [
    {
     "data": {
      "text/plain": [
       "[[[[0,7],4],[15,0,13]]],[1,1]]"
      ]
     },
     "execution_count": 32,
     "metadata": {},
     "output_type": "execute_result"
    }
   ],
   "source": [
    "drip = Snail(sip.single_boom())\n",
    "#assert(drip.hw == '[[[[0,7],4],[15,[0,13]]],[1,1]]')\n",
    "drip"
   ]
  },
  {
   "cell_type": "code",
   "execution_count": 33,
   "id": "db804f06",
   "metadata": {},
   "outputs": [],
   "source": [
    "assert(magnitude(Snail('[[[[8,7],[7,7]],[[8,6],[7,7]]],[[[0,7],[6,6]],[8,7]]]')) == 3488)"
   ]
  },
  {
   "cell_type": "code",
   "execution_count": null,
   "id": "2cac37ce",
   "metadata": {},
   "outputs": [],
   "source": []
  }
 ],
 "metadata": {
  "kernelspec": {
   "display_name": "Python 3 (ipykernel)",
   "language": "python",
   "name": "python3"
  },
  "language_info": {
   "codemirror_mode": {
    "name": "ipython",
    "version": 3
   },
   "file_extension": ".py",
   "mimetype": "text/x-python",
   "name": "python",
   "nbconvert_exporter": "python",
   "pygments_lexer": "ipython3",
   "version": "3.8.2"
  }
 },
 "nbformat": 4,
 "nbformat_minor": 5
}
