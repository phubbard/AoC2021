{
 "cells": [
  {
   "cell_type": "code",
   "execution_count": 1,
   "id": "f061a5f1",
   "metadata": {},
   "outputs": [],
   "source": [
    "import numpy as np\n",
    "from skimage.feature import peak_local_max\n",
    "from skimage import feature\n",
    "from scipy.signal import argrelextrema\n",
    "from scipy.signal import find_peaks\n",
    "from skimage.segmentation import watershed\n",
    "\n",
    "#The scipy.signal stuff is a red herring, but left here for as a \n",
    "#reminder of different possible options \n",
    "#\n",
    "# However skimage has tools to solve all parts with very little \n",
    "#coding required."
   ]
  },
  {
   "cell_type": "markdown",
   "id": "82765391",
   "metadata": {},
   "source": [
    "## Data input/processing"
   ]
  },
  {
   "cell_type": "code",
   "execution_count": 2,
   "id": "11d8bdcd",
   "metadata": {},
   "outputs": [],
   "source": [
    "def process_line(l):\n",
    "    return [int(x) for x in list(l.strip())]"
   ]
  },
  {
   "cell_type": "code",
   "execution_count": 3,
   "id": "0d810fb8",
   "metadata": {},
   "outputs": [],
   "source": [
    "sample = ['2199943210',\n",
    "'3987894921',\n",
    "'9856789892',\n",
    "'8767896789',\n",
    "'9899965678']\n",
    "\n",
    "\n",
    "with open(\"9.txt\") as f:\n",
    "    contents = f.readlines()\n",
    "    "
   ]
  },
  {
   "cell_type": "code",
   "execution_count": 4,
   "id": "264504a7",
   "metadata": {},
   "outputs": [
    {
     "data": {
      "text/plain": [
       "(array([[2, 1, 9, 9, 9, 4, 3, 2, 1, 0],\n",
       "        [3, 9, 8, 7, 8, 9, 4, 9, 2, 1],\n",
       "        [9, 8, 5, 6, 7, 8, 9, 8, 9, 2],\n",
       "        [8, 7, 6, 7, 8, 9, 6, 7, 8, 9],\n",
       "        [9, 8, 9, 9, 9, 6, 5, 6, 7, 8]]),\n",
       " array([[9, 8, 7, ..., 3, 4, 7],\n",
       "        [6, 9, 8, ..., 4, 5, 6],\n",
       "        [5, 5, 9, ..., 6, 8, 9],\n",
       "        ...,\n",
       "        [8, 9, 6, ..., 7, 8, 9],\n",
       "        [7, 6, 4, ..., 8, 9, 3],\n",
       "        [8, 4, 3, ..., 9, 1, 2]]))"
      ]
     },
     "execution_count": 4,
     "metadata": {},
     "output_type": "execute_result"
    }
   ],
   "source": [
    "s = np.array([process_line(l) for l in sample])\n",
    "c = np.array([process_line(l) for l in contents])\n",
    "s,c"
   ]
  },
  {
   "cell_type": "raw",
   "id": "ec091294",
   "metadata": {},
   "source": []
  },
  {
   "cell_type": "markdown",
   "id": "b755afbc",
   "metadata": {},
   "source": [
    "## Part One\n",
    "\n",
    "First a check that the numpy pad does what we need it to do before tossing the array into peak_local_max to find all of the points we need to score."
   ]
  },
  {
   "cell_type": "code",
   "execution_count": 5,
   "id": "ea964135",
   "metadata": {},
   "outputs": [
    {
     "data": {
      "text/plain": [
       "array([[9, 9, 9, 9, 9, 9, 9, 9, 9, 9, 9, 9],\n",
       "       [9, 2, 1, 9, 9, 9, 4, 3, 2, 1, 0, 9],\n",
       "       [9, 3, 9, 8, 7, 8, 9, 4, 9, 2, 1, 9],\n",
       "       [9, 9, 8, 5, 6, 7, 8, 9, 8, 9, 2, 9],\n",
       "       [9, 8, 7, 6, 7, 8, 9, 6, 7, 8, 9, 9],\n",
       "       [9, 9, 8, 9, 9, 9, 6, 5, 6, 7, 8, 9],\n",
       "       [9, 9, 9, 9, 9, 9, 9, 9, 9, 9, 9, 9]])"
      ]
     },
     "execution_count": 5,
     "metadata": {},
     "output_type": "execute_result"
    }
   ],
   "source": [
    "sp = np.pad(s, ((1, 1), (1, 1)), 'maximum')\n",
    "sp"
   ]
  },
  {
   "cell_type": "code",
   "execution_count": 6,
   "id": "d6191254",
   "metadata": {},
   "outputs": [],
   "source": [
    "def find_minimums(sarray):\n",
    "    spad = np.pad(sarray, ((1, 1), (1, 1)), 'maximum')\n",
    "    result = peak_local_max(-spad)-1\n",
    "    return result"
   ]
  },
  {
   "cell_type": "code",
   "execution_count": 7,
   "id": "793d2a22",
   "metadata": {},
   "outputs": [
    {
     "data": {
      "text/plain": [
       "array([[0, 9],\n",
       "       [0, 1],\n",
       "       [2, 2],\n",
       "       [4, 6]])"
      ]
     },
     "execution_count": 7,
     "metadata": {},
     "output_type": "execute_result"
    }
   ],
   "source": [
    "find_minimums(s)"
   ]
  },
  {
   "cell_type": "code",
   "execution_count": 8,
   "id": "9602c2cd",
   "metadata": {},
   "outputs": [
    {
     "data": {
      "text/plain": [
       "array([[ 0, 15],\n",
       "       [63, 91],\n",
       "       [31, 41],\n",
       "       [30, 81],\n",
       "       [65, 26],\n",
       "       [66,  9],\n",
       "       [29, 73],\n",
       "       [29, 53],\n",
       "       [66, 96],\n",
       "       [28, 17],\n",
       "       [68, 69],\n",
       "       [27, 25],\n",
       "       [63, 13],\n",
       "       [69, 50],\n",
       "       [26, 34],\n",
       "       [25, 67],\n",
       "       [25, 63],\n",
       "       [70, 80],\n",
       "       [71, 23],\n",
       "       [51, 20],\n",
       "       [75, 64],\n",
       "       [22, 55],\n",
       "       [76, 37],\n",
       "       [76, 47],\n",
       "       [76, 71],\n",
       "       [26, 79],\n",
       "       [62, 56],\n",
       "       [35,  4],\n",
       "       [35, 36],\n",
       "       [51, 10],\n",
       "       [50, 27],\n",
       "       [53, 77],\n",
       "       [47, 80],\n",
       "       [54, 33],\n",
       "       [45, 60],\n",
       "       [55,  1],\n",
       "       [45, 29],\n",
       "       [55, 26],\n",
       "       [56, 14],\n",
       "       [57, 89],\n",
       "       [43,  4],\n",
       "       [42, 93],\n",
       "       [42, 46],\n",
       "       [40, 84],\n",
       "       [61, 62],\n",
       "       [39, 55],\n",
       "       [38, 99],\n",
       "       [38, 25],\n",
       "       [38, 17],\n",
       "       [37, 47],\n",
       "       [36, 77],\n",
       "       [36, 70],\n",
       "       [36, 63],\n",
       "       [35, 91],\n",
       "       [76, 93],\n",
       "       [78, 26],\n",
       "       [75, 53],\n",
       "       [88, 46],\n",
       "       [ 9, 46],\n",
       "       [ 9, 38],\n",
       "       [21,  0],\n",
       "       [89, 18],\n",
       "       [ 7, 75],\n",
       "       [92, 12],\n",
       "       [ 6,  1],\n",
       "       [93, 24],\n",
       "       [ 5, 56],\n",
       "       [ 5, 31],\n",
       "       [ 5, 20],\n",
       "       [93, 94],\n",
       "       [94, 85],\n",
       "       [97, 16],\n",
       "       [ 1, 95],\n",
       "       [97, 22],\n",
       "       [ 1, 57],\n",
       "       [ 1, 25],\n",
       "       [ 1,  7],\n",
       "       [98, 47],\n",
       "       [99, 38],\n",
       "       [99, 56],\n",
       "       [ 0, 49],\n",
       "       [99, 73],\n",
       "       [99, 81],\n",
       "       [ 9, 82],\n",
       "       [ 9, 97],\n",
       "       [51, 87],\n",
       "       [84, 92],\n",
       "       [16, 66],\n",
       "       [83, 55],\n",
       "       [84, 39],\n",
       "       [19, 31],\n",
       "       [14, 76],\n",
       "       [81, 99],\n",
       "       [19, 72],\n",
       "       [80, 32],\n",
       "       [17, 47],\n",
       "       [85, 30],\n",
       "       [85, 68],\n",
       "       [86, 80],\n",
       "       [17, 99],\n",
       "       [12, 19],\n",
       "       [11, 14],\n",
       "       [20, 38],\n",
       "       [87, 63],\n",
       "       [79, 59],\n",
       "       [18, 87],\n",
       "       [72, 59],\n",
       "       [64, 44],\n",
       "       [79, 81],\n",
       "       [52, 94],\n",
       "       [52, 67],\n",
       "       [54, 46],\n",
       "       [56, 52],\n",
       "       [82, 16],\n",
       "       [70,  3],\n",
       "       [69, 86],\n",
       "       [59, 21],\n",
       "       [64, 19],\n",
       "       [59, 71],\n",
       "       [61, 17],\n",
       "       [61, 82],\n",
       "       [92, 51],\n",
       "       [92, 39],\n",
       "       [85,  4],\n",
       "       [91,  2],\n",
       "       [62, 33],\n",
       "       [87, 99],\n",
       "       [57, 58],\n",
       "       [78,  4],\n",
       "       [49, 49],\n",
       "       [99, 98],\n",
       "       [39, 30],\n",
       "       [35, 11],\n",
       "       [34, 27],\n",
       "       [30, 93],\n",
       "       [ 8, 25],\n",
       "       [ 9, 64],\n",
       "       [10, 56],\n",
       "       [40, 39],\n",
       "       [12, 62],\n",
       "       [14, 28],\n",
       "       [14, 40],\n",
       "       [25, 49],\n",
       "       [15, 92],\n",
       "       [16, 10],\n",
       "       [18,  4],\n",
       "       [20, 17],\n",
       "       [14,  4],\n",
       "       [ 6, 90],\n",
       "       [ 7, 50],\n",
       "       [ 4, 61],\n",
       "       [49, 99],\n",
       "       [99, 90],\n",
       "       [47, 72],\n",
       "       [ 0, 42],\n",
       "       [45, 22],\n",
       "       [45, 15],\n",
       "       [ 0, 78],\n",
       "       [42, 11],\n",
       "       [ 4, 14],\n",
       "       [97, 63],\n",
       "       [21, 81],\n",
       "       [77, 14],\n",
       "       [21, 10],\n",
       "       [17, 58],\n",
       "       [82,  9],\n",
       "       [83, 49],\n",
       "       [ 1, 85],\n",
       "       [91, 66],\n",
       "       [ 0, 74],\n",
       "       [84, 73],\n",
       "       [99,  9],\n",
       "       [99,  3],\n",
       "       [92, 56],\n",
       "       [12, 71],\n",
       "       [86,  0],\n",
       "       [22, 21],\n",
       "       [87, 51],\n",
       "       [90, 25],\n",
       "       [98, 27],\n",
       "       [97, 32],\n",
       "       [22, 44],\n",
       "       [21, 65],\n",
       "       [25,  3],\n",
       "       [68, 34],\n",
       "       [68, 30],\n",
       "       [32, 87],\n",
       "       [24, 91],\n",
       "       [67, 38],\n",
       "       [60,  6],\n",
       "       [29,  8],\n",
       "       [27, 46],\n",
       "       [71, 95],\n",
       "       [56, 99],\n",
       "       [66, 77],\n",
       "       [73,  8],\n",
       "       [54, 51],\n",
       "       [73, 32],\n",
       "       [47, 36],\n",
       "       [43, 74],\n",
       "       [60, 41],\n",
       "       [92, 45],\n",
       "       [91, 79],\n",
       "       [31, 21],\n",
       "       [93, 49],\n",
       "       [ 4, 70],\n",
       "       [94, 31],\n",
       "       [94, 78],\n",
       "       [42, 51],\n",
       "       [45, 43],\n",
       "       [ 0, 18],\n",
       "       [92, 73],\n",
       "       [31, 97],\n",
       "       [50, 42],\n",
       "       [ 8, 11],\n",
       "       [52, 54],\n",
       "       [20, 27],\n",
       "       [67, 59],\n",
       "       [26, 85],\n",
       "       [25, 12],\n",
       "       [71, 42],\n",
       "       [23, 75],\n",
       "       [74, 42],\n",
       "       [ 0, 67],\n",
       "       [45, 25],\n",
       "       [55, 61],\n",
       "       [24, 17],\n",
       "       [57, 47],\n",
       "       [80, 20],\n",
       "       [43, 69],\n",
       "       [71, 38],\n",
       "       [22, 98],\n",
       "       [16, 89],\n",
       "       [69, 63],\n",
       "       [ 5, 87],\n",
       "       [84, 84],\n",
       "       [41, 88],\n",
       "       [ 7, 16],\n",
       "       [30, 38],\n",
       "       [30, 67],\n",
       "       [96, 35],\n",
       "       [22, 40],\n",
       "       [ 7, 38],\n",
       "       [91, 75],\n",
       "       [84, 23]])"
      ]
     },
     "execution_count": 8,
     "metadata": {},
     "output_type": "execute_result"
    }
   ],
   "source": [
    "find_minimums(c)"
   ]
  },
  {
   "cell_type": "code",
   "execution_count": 9,
   "id": "b4f6ad69",
   "metadata": {},
   "outputs": [],
   "source": [
    "def part_one_score(data):\n",
    "    mvals = find_minimums(data)\n",
    "    score = 0\n",
    "    for a,b in mvals:\n",
    "        score = score + data[a,b] + 1\n",
    "    return score"
   ]
  },
  {
   "cell_type": "code",
   "execution_count": 10,
   "id": "6a60b3e4",
   "metadata": {},
   "outputs": [
    {
     "data": {
      "text/plain": [
       "15"
      ]
     },
     "execution_count": 10,
     "metadata": {},
     "output_type": "execute_result"
    }
   ],
   "source": [
    "part_one_score(s)"
   ]
  },
  {
   "cell_type": "code",
   "execution_count": 11,
   "id": "529ba7e5",
   "metadata": {},
   "outputs": [
    {
     "data": {
      "text/plain": [
       "541"
      ]
     },
     "execution_count": 11,
     "metadata": {},
     "output_type": "execute_result"
    }
   ],
   "source": [
    "part_one_score(c)"
   ]
  },
  {
   "cell_type": "markdown",
   "id": "4c41cc8b",
   "metadata": {},
   "source": [
    "## Part Two\n",
    "\n",
    "Here we need to do watershed.  Which if you apply skimage's watershed implementation out of the box, it is almost a complete solution.  The only minor change is that you need to remove the 9's from the regions.  Hence there are no functions in this part because a few cells of commands produced an answer."
   ]
  },
  {
   "cell_type": "code",
   "execution_count": 12,
   "id": "448a17dc",
   "metadata": {},
   "outputs": [
    {
     "data": {
      "text/plain": [
       "array([[1, 1, 1, 3, 2, 2, 2, 2, 2, 2],\n",
       "       [1, 1, 3, 3, 3, 2, 2, 2, 2, 2],\n",
       "       [1, 3, 3, 3, 3, 3, 2, 4, 2, 2],\n",
       "       [3, 3, 3, 3, 3, 4, 4, 4, 4, 2],\n",
       "       [3, 3, 3, 3, 4, 4, 4, 4, 4, 4]], dtype=int32)"
      ]
     },
     "execution_count": 12,
     "metadata": {},
     "output_type": "execute_result"
    }
   ],
   "source": [
    "ws = watershed(s)\n",
    "ws"
   ]
  },
  {
   "cell_type": "code",
   "execution_count": 13,
   "id": "625f16eb",
   "metadata": {},
   "outputs": [
    {
     "data": {
      "text/plain": [
       "array([[1, 1, 0, 0, 0, 2, 2, 2, 2, 2],\n",
       "       [1, 0, 3, 3, 3, 0, 2, 0, 2, 2],\n",
       "       [0, 3, 3, 3, 3, 3, 0, 4, 0, 2],\n",
       "       [3, 3, 3, 3, 3, 0, 4, 4, 4, 0],\n",
       "       [0, 3, 0, 0, 0, 4, 4, 4, 4, 4]], dtype=int32)"
      ]
     },
     "execution_count": 13,
     "metadata": {},
     "output_type": "execute_result"
    }
   ],
   "source": [
    "ws[s == 9] = 0\n",
    "ws"
   ]
  },
  {
   "cell_type": "code",
   "execution_count": 14,
   "id": "1f981100",
   "metadata": {},
   "outputs": [
    {
     "data": {
      "text/plain": [
       "array([[ 20,   8,   8, ...,  12,  12,  12],\n",
       "       [ 20,  20,   8, ...,  12,  12,  12],\n",
       "       [ 20,  20,  20, ...,  12,  12,  12],\n",
       "       ...,\n",
       "       [238, 238, 238, ..., 227, 227, 245],\n",
       "       [238, 238, 238, ..., 227, 245, 245],\n",
       "       [238, 238, 238, ..., 245, 245, 245]], dtype=int32)"
      ]
     },
     "execution_count": 14,
     "metadata": {},
     "output_type": "execute_result"
    }
   ],
   "source": [
    "wsc = watershed(c)\n",
    "wsc"
   ]
  },
  {
   "cell_type": "code",
   "execution_count": 15,
   "id": "c81778e8",
   "metadata": {},
   "outputs": [
    {
     "data": {
      "text/plain": [
       "array([[  0,   8,   8, ...,  12,  12,  12],\n",
       "       [ 20,   0,   8, ...,  12,  12,  12],\n",
       "       [ 20,  20,   0, ...,  12,  12,   0],\n",
       "       ...,\n",
       "       [238,   0, 238, ..., 227, 227,   0],\n",
       "       [238, 238, 238, ..., 227,   0, 245],\n",
       "       [238, 238, 238, ...,   0, 245, 245]], dtype=int32)"
      ]
     },
     "execution_count": 15,
     "metadata": {},
     "output_type": "execute_result"
    }
   ],
   "source": [
    "wsc[c == 9] = 0\n",
    "wsc"
   ]
  },
  {
   "cell_type": "code",
   "execution_count": 16,
   "id": "75d2fa41",
   "metadata": {},
   "outputs": [],
   "source": [
    "labels,counts = np.unique(wsc,return_counts=True)"
   ]
  },
  {
   "cell_type": "code",
   "execution_count": 17,
   "id": "78cbc074",
   "metadata": {},
   "outputs": [
    {
     "data": {
      "text/plain": [
       "array([  0,   1,   2,   3,   4,   5,   6,   7,   8,   9,  10,  11,  12,\n",
       "        13,  14,  15,  16,  17,  18,  19,  20,  21,  22,  23,  24,  25,\n",
       "        26,  27,  28,  29,  30,  31,  32,  33,  34,  35,  36,  37,  38,\n",
       "        39,  40,  41,  42,  43,  44,  45,  46,  47,  48,  49,  50,  51,\n",
       "        52,  53,  54,  55,  56,  57,  58,  59,  60,  61,  62,  63,  64,\n",
       "        65,  66,  67,  68,  69,  70,  71,  72,  73,  74,  75,  76,  77,\n",
       "        78,  79,  80,  81,  82,  83,  84,  85,  86,  87,  88,  89,  90,\n",
       "        91,  92,  93,  94,  95,  96,  97,  98,  99, 100, 101, 102, 103,\n",
       "       104, 105, 106, 107, 108, 109, 110, 111, 112, 113, 114, 115, 116,\n",
       "       117, 118, 119, 120, 121, 122, 123, 124, 125, 126, 127, 128, 129,\n",
       "       130, 131, 132, 133, 134, 135, 136, 137, 138, 139, 140, 141, 142,\n",
       "       143, 144, 145, 146, 147, 148, 149, 150, 151, 152, 153, 154, 155,\n",
       "       156, 157, 158, 159, 160, 161, 162, 163, 164, 165, 166, 167, 168,\n",
       "       169, 170, 171, 172, 173, 174, 175, 176, 177, 178, 179, 180, 181,\n",
       "       182, 183, 184, 185, 186, 187, 188, 189, 190, 191, 192, 193, 194,\n",
       "       195, 196, 197, 198, 199, 200, 201, 202, 203, 204, 205, 206, 207,\n",
       "       208, 209, 210, 211, 212, 213, 214, 215, 216, 217, 218, 219, 220,\n",
       "       221, 222, 223, 224, 225, 226, 227, 228, 229, 230, 231, 232, 233,\n",
       "       234, 235, 236, 237, 238, 239, 240, 241, 242, 243, 244, 245],\n",
       "      dtype=int32)"
      ]
     },
     "execution_count": 17,
     "metadata": {},
     "output_type": "execute_result"
    }
   ],
   "source": [
    "labels"
   ]
  },
  {
   "cell_type": "code",
   "execution_count": 18,
   "id": "241a2bb1",
   "metadata": {},
   "outputs": [],
   "source": [
    "counts.sort()"
   ]
  },
  {
   "cell_type": "code",
   "execution_count": 19,
   "id": "633c2e84",
   "metadata": {},
   "outputs": [
    {
     "data": {
      "text/plain": [
       "array([   2,    2,    2,    2,    2,    2,    2,    2,    2,    2,    2,\n",
       "          2,    2,    3,    3,    3,    3,    3,    3,    3,    3,    3,\n",
       "          3,    3,    3,    3,    3,    3,    3,    4,    4,    4,    4,\n",
       "          4,    4,    4,    4,    4,    4,    4,    4,    4,    4,    4,\n",
       "          5,    5,    5,    5,    5,    5,    5,    6,    6,    6,    6,\n",
       "          6,    6,    6,    6,    6,    7,    7,    7,    7,    8,    8,\n",
       "          8,    8,    9,    9,    9,    9,    9,    9,    9,    9,   10,\n",
       "         10,   11,   11,   11,   11,   11,   12,   12,   12,   13,   13,\n",
       "         13,   14,   14,   14,   14,   14,   15,   15,   15,   15,   15,\n",
       "         15,   16,   16,   16,   16,   17,   17,   17,   17,   19,   20,\n",
       "         20,   20,   20,   21,   21,   22,   22,   23,   23,   23,   24,\n",
       "         24,   24,   25,   26,   26,   26,   26,   26,   27,   27,   28,\n",
       "         28,   28,   28,   29,   29,   30,   30,   30,   30,   31,   31,\n",
       "         31,   32,   32,   32,   33,   33,   33,   34,   35,   35,   35,\n",
       "         36,   36,   36,   37,   37,   38,   38,   38,   39,   39,   39,\n",
       "         39,   39,   39,   39,   39,   40,   40,   40,   41,   41,   43,\n",
       "         44,   44,   44,   44,   45,   46,   47,   47,   48,   49,   49,\n",
       "         49,   50,   50,   50,   50,   51,   51,   51,   51,   52,   53,\n",
       "         53,   55,   56,   56,   57,   57,   57,   58,   58,   59,   59,\n",
       "         60,   62,   62,   62,   63,   63,   64,   65,   66,   67,   67,\n",
       "         69,   69,   69,   70,   72,   74,   74,   74,   76,   76,   76,\n",
       "         76,   77,   77,   78,   79,   80,   82,   85,   87,   88,   90,\n",
       "         92,   94,   98, 2725])"
      ]
     },
     "execution_count": 19,
     "metadata": {},
     "output_type": "execute_result"
    }
   ],
   "source": [
    "counts"
   ]
  },
  {
   "cell_type": "code",
   "execution_count": 20,
   "id": "479f4f50",
   "metadata": {},
   "outputs": [
    {
     "data": {
      "text/plain": [
       "847504"
      ]
     },
     "execution_count": 20,
     "metadata": {},
     "output_type": "execute_result"
    }
   ],
   "source": [
    "92*94*98"
   ]
  },
  {
   "cell_type": "code",
   "execution_count": null,
   "id": "2047a09f",
   "metadata": {},
   "outputs": [],
   "source": []
  }
 ],
 "metadata": {
  "kernelspec": {
   "display_name": "Python 3 (ipykernel)",
   "language": "python",
   "name": "python3"
  },
  "language_info": {
   "codemirror_mode": {
    "name": "ipython",
    "version": 3
   },
   "file_extension": ".py",
   "mimetype": "text/x-python",
   "name": "python",
   "nbconvert_exporter": "python",
   "pygments_lexer": "ipython3",
   "version": "3.8.2"
  }
 },
 "nbformat": 4,
 "nbformat_minor": 5
}
