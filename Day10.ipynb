{
 "cells": [
  {
   "cell_type": "markdown",
   "id": "89272da9",
   "metadata": {},
   "source": [
    "Advent of code 2021 problem number 10\n",
    "\n",
    "January 23, 2023"
   ]
  },
  {
   "cell_type": "code",
   "execution_count": 1,
   "id": "57bf46f3",
   "metadata": {},
   "outputs": [],
   "source": [
    "#This is not actually needed.  It's just a place holder for future \n",
    "#library incusion\n",
    "import numpy as np\n"
   ]
  },
  {
   "cell_type": "code",
   "execution_count": 2,
   "id": "3a89bc0e",
   "metadata": {},
   "outputs": [],
   "source": [
    "sample = ['[({(<(())[]>[[{[]{<()<>>',\n",
    "'[(()[<>])]({[<{<<[]>>(',\n",
    "'{([(<{}[<>[]}>{[]{[(<()>',\n",
    "'(((({<>}<{<{<>}{[]{[]{}',\n",
    "'[[<[([]))<([[{}[[()]]]',\n",
    "'[{[{({}]{}}([{[{{{}}([]',\n",
    "'{<[[]]>}<{[{[{[]{()[[[]',\n",
    "'[<(<(<(<{}))><([]([]()',\n",
    "'<{([([[(<>()){}]>(<<{{',\n",
    "'<{([{{}}[<[[[<>{}]]]>[]]']\n",
    "\n",
    "\n",
    "with open(\"10.txt\") as f:\n",
    "    contents = f.readlines()\n",
    "    "
   ]
  },
  {
   "cell_type": "code",
   "execution_count": 3,
   "id": "de60b288",
   "metadata": {},
   "outputs": [],
   "source": [
    "closers = {}\n",
    "closers['['] = ']'\n",
    "closers['{'] = '}'\n",
    "closers['('] = ')'\n",
    "closers['<'] = '>'\n",
    "starters = {}\n",
    "for t in closers:\n",
    "    starters[closers[t]] = t\n",
    "\n",
    "def process_line(s, verbose = False):\n",
    "    if verbose:\n",
    "        print(s)\n",
    "    s = s.rstrip()\n",
    "    track = []\n",
    "    fail = []\n",
    "    for c in s:\n",
    "        if c in closers.keys():\n",
    "            track.append(c)\n",
    "        else:\n",
    "            assert(c in starters.keys())\n",
    "            if (len(track) > 0) and (starters[c] == track[-1]):\n",
    "                track.pop()\n",
    "            else:\n",
    "                fail.append(c)\n",
    "                if verbose:\n",
    "                    print(\"WARNING!!!!  LIST FAIL! {}\".format(fail))\n",
    "                \n",
    "        #print(''.join(track))\n",
    "    return fail, track"
   ]
  },
  {
   "cell_type": "code",
   "execution_count": 4,
   "id": "b0780b4e",
   "metadata": {},
   "outputs": [
    {
     "name": "stdout",
     "output_type": "stream",
     "text": [
      "([], ['[', '(', '{', '(', '[', '[', '{', '{'])\n",
      "([], ['(', '{', '[', '<', '{', '('])\n",
      "(['}', '>'], ['{', '(', '[', '(', '<', '[', '{', '{', '[', '('])\n",
      "([], ['(', '(', '(', '(', '<', '{', '<', '{', '{'])\n",
      "([')'], ['[', '[', '<', '[', '<', '(', '['])\n",
      "([']', '}'], ['[', '{', '[', '{', '(', '(', '[', '{', '[', '{', '('])\n",
      "([], ['<', '{', '[', '{', '[', '{', '{', '[', '['])\n",
      "([')', ')'], ['[', '<', '(', '<', '(', '<', '(', '<', '(', '('])\n",
      "(['>'], ['<', '{', '(', '[', '(', '[', '(', '<', '<', '{', '{'])\n",
      "([], ['<', '{', '(', '['])\n"
     ]
    }
   ],
   "source": [
    "for l in sample:\n",
    "    print(process_line(l))"
   ]
  },
  {
   "cell_type": "code",
   "execution_count": 5,
   "id": "a4a527d8",
   "metadata": {},
   "outputs": [],
   "source": [
    "\"\"\"\n",
    "\n",
    "): 3 points.\n",
    "]: 57 points.\n",
    "}: 1197 points.\n",
    ">: 25137 points.\n",
    "\n",
    "\"\"\"\n",
    "\n",
    "\n",
    "score_dict = {}\n",
    "score_dict[')'] = 3\n",
    "score_dict[']'] = 57\n",
    "score_dict['}'] = 1197\n",
    "score_dict['>'] = 25137\n",
    "\n",
    "\n",
    "def score_data(data):\n",
    "    score = 0\n",
    "    for l in data:\n",
    "        fails = process_line(l)[0]\n",
    "        if len(fails) > 0:\n",
    "            score = score + score_dict[fails[0]]\n",
    "    return score\n",
    "\n",
    "\n",
    "def weird_score(l):\n",
    "    \"\"\"\n",
    "    This function is going to reverse the list.\n",
    "    \"\"\"\n",
    "    values = {}\n",
    "    values['('] = 1\n",
    "    values['['] = 2\n",
    "    values['{'] = 3\n",
    "    values['<'] = 4\n",
    "    sc = 0\n",
    "    for c in l[::-1]:\n",
    "        sc = 5*sc + values[c]\n",
    "    return sc\n",
    "    \n",
    "    \n",
    "\n",
    "def part_two_score_data(data):\n",
    "    score_list = []\n",
    "    for l in data:\n",
    "        fails,track = process_line(l)\n",
    "        if len(fails) == 0:\n",
    "            score_list.append(weird_score(track))\n",
    "    score_list.sort()\n",
    "    t = int((len(score_list) - 1)/2)\n",
    "    print(\"There are {} scores so we are taking the {} one\".format(len(score_list),t))\n",
    "    print(score_list)\n",
    "    return score_list[t]        "
   ]
  },
  {
   "cell_type": "code",
   "execution_count": 6,
   "id": "4a05a950",
   "metadata": {},
   "outputs": [
    {
     "data": {
      "text/plain": [
       "26397"
      ]
     },
     "execution_count": 6,
     "metadata": {},
     "output_type": "execute_result"
    }
   ],
   "source": [
    "score_data(sample)"
   ]
  },
  {
   "cell_type": "code",
   "execution_count": 7,
   "id": "2b4e33a3",
   "metadata": {},
   "outputs": [],
   "source": [
    "part1_score = score_data(contents)"
   ]
  },
  {
   "cell_type": "code",
   "execution_count": 8,
   "id": "39c2f4a5",
   "metadata": {},
   "outputs": [
    {
     "data": {
      "text/plain": [
       "323691"
      ]
     },
     "execution_count": 8,
     "metadata": {},
     "output_type": "execute_result"
    }
   ],
   "source": [
    "part1_score"
   ]
  },
  {
   "cell_type": "code",
   "execution_count": 9,
   "id": "70c20a24",
   "metadata": {},
   "outputs": [
    {
     "name": "stdout",
     "output_type": "stream",
     "text": [
      "There are 5 scores so we are taking the 2 one\n",
      "[294, 5566, 288957, 995444, 1480781]\n"
     ]
    },
    {
     "data": {
      "text/plain": [
       "288957"
      ]
     },
     "execution_count": 9,
     "metadata": {},
     "output_type": "execute_result"
    }
   ],
   "source": [
    "part_two_score_data(sample)"
   ]
  },
  {
   "cell_type": "code",
   "execution_count": 10,
   "id": "f62d0d5c",
   "metadata": {},
   "outputs": [
    {
     "name": "stdout",
     "output_type": "stream",
     "text": [
      "There are 53 scores so we are taking the 26 one\n",
      "[13918, 573949, 913659, 1504996, 3389821, 5435946, 6895573, 8709207, 29058711, 44087106, 61693322, 71988722, 319357293, 423645496, 848434031, 868461107, 913514247, 941133317, 1067489573, 1187010469, 1587260872, 1657644984, 1659160316, 2064449299, 2079670481, 2847620796, 2858785164, 2913553121, 3333390571, 3363978937, 3482967187, 4094865561, 4506371459, 4852911158, 5259479974, 5454916481, 5731134193, 5736119562, 5836991862, 5990902216, 6088929709, 7978010997, 9193071082, 11327091797, 15550669707, 15808160433, 16440354617, 21892399232, 23627838586, 23898929714, 24391154531, 28632539543, 28974200999]\n"
     ]
    },
    {
     "data": {
      "text/plain": [
       "2858785164"
      ]
     },
     "execution_count": 10,
     "metadata": {},
     "output_type": "execute_result"
    }
   ],
   "source": [
    "part_two_score_data(contents)"
   ]
  },
  {
   "cell_type": "code",
   "execution_count": null,
   "id": "aa28b1bd",
   "metadata": {},
   "outputs": [],
   "source": []
  }
 ],
 "metadata": {
  "kernelspec": {
   "display_name": "Python 3 (ipykernel)",
   "language": "python",
   "name": "python3"
  },
  "language_info": {
   "codemirror_mode": {
    "name": "ipython",
    "version": 3
   },
   "file_extension": ".py",
   "mimetype": "text/x-python",
   "name": "python",
   "nbconvert_exporter": "python",
   "pygments_lexer": "ipython3",
   "version": "3.8.2"
  }
 },
 "nbformat": 4,
 "nbformat_minor": 5
}
